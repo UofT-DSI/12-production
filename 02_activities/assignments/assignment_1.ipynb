{
 "cells": [
  {
   "cell_type": "markdown",
   "metadata": {},
   "source": [
    "# Working with parquet files\n",
    "\n",
    "## Objective\n",
    "\n",
    "+ In this assignment, we will use the data downloaded with the module `data_manager` to create features.\n",
    "\n",
    "(11 pts total)\n",
    "\n",
    "## Prerequisites\n",
    "\n",
    "+ This notebook assumes that price data is available to you in the environment variable `PRICE_DATA`. If you have not done so, then execute the notebook `01_materials/labs/2_data_engineering.ipynb` to create this data set.\n"
   ]
  },
  {
   "cell_type": "markdown",
   "metadata": {},
   "source": [
    "+ Load the environment variables using dotenv. (1 pt)"
   ]
  },
  {
   "cell_type": "code",
   "execution_count": 4,
   "metadata": {},
   "outputs": [
    {
     "name": "stdout",
     "output_type": "stream",
     "text": [
      "PRICE_DATA path: ../../05_src/data/prices/\n"
     ]
    }
   ],
   "source": [
    "from dotenv import load_dotenv\n",
    "import os\n",
    "\n",
    "# Load environment variables\n",
    "load_dotenv()\n",
    "\n",
    "# Get the PRICE_DATA variable\n",
    "price_data_path = os.getenv(\"PRICE_DATA\")\n",
    "\n",
    "# Print to verify\n",
    "print(f\"PRICE_DATA path: {price_data_path}\")"
   ]
  },
  {
   "cell_type": "code",
   "execution_count": 5,
   "metadata": {},
   "outputs": [],
   "source": [
    "import dask.dataframe as dd"
   ]
  },
  {
   "cell_type": "markdown",
   "metadata": {},
   "source": [
    "+ Load the environment variable `PRICE_DATA`.\n",
    "+ Use [glob](https://docs.python.org/3/library/glob.html) to find the path of all parquet files in the directory `PRICE_DATA`.\n",
    "\n",
    "(1pt)"
   ]
  },
  {
   "cell_type": "code",
   "execution_count": 6,
   "metadata": {},
   "outputs": [
    {
     "name": "stdout",
     "output_type": "stream",
     "text": [
      "[]\n"
     ]
    }
   ],
   "source": [
    "import os\n",
    "from glob import glob\n",
    "\n",
    "# Load environment variables\n",
    "load_dotenv()\n",
    "\n",
    "# Get the PRICE_DATA directory path\n",
    "price_data_path = os.getenv(\"PRICE_DATA\")\n",
    "\n",
    "# Find all parquet files in the directory\n",
    "parquet_files = glob(os.path.join(price_data_path, \"*.parquet\"))\n",
    "\n",
    "# Print to verify\n",
    "print(parquet_files)\n"
   ]
  },
  {
   "cell_type": "markdown",
   "metadata": {},
   "source": [
    "For each ticker and using Dask, do the following:\n",
    "\n",
    "+ Add lags for variables Close and Adj_Close.\n",
    "+ Add returns based on Close:\n",
    "    \n",
    "    - `returns`: (Close / Close_lag_1) - 1\n",
    "\n",
    "+ Add the following range: \n",
    "\n",
    "    - `hi_lo_range`: this is the day's High minus Low.\n",
    "\n",
    "+ Assign the result to `dd_feat`.\n",
    "\n",
    "(4 pt)"
   ]
  },
  {
   "cell_type": "code",
   "execution_count": 43,
   "metadata": {},
   "outputs": [
    {
     "name": "stdout",
     "output_type": "stream",
     "text": [
      "Columns in dd_data: Index(['Date', 'Ticker', 'Adj Close', 'Close', 'High', 'Low', 'Open',\n",
      "       'Volume'],\n",
      "      dtype='object')\n",
      "Renaming 'Date' to 'date'\n",
      "                       date      Close  Adj Close  Close_lag_1  \\\n",
      "0 2000-01-03 00:00:00+00:00   0.999442   0.843076          NaN   \n",
      "1 2000-01-03 00:00:00+00:00        NaN        NaN     0.999442   \n",
      "2 2000-01-03 00:00:00+00:00  58.281250  35.864075          NaN   \n",
      "3 2000-01-03 00:00:00+00:00   0.097526   0.089440    58.281250   \n",
      "4 2000-01-04 00:00:00+00:00   0.915179   0.771997     0.097526   \n",
      "\n",
      "   Adj_Close_lag_1   returns  hi_lo_range  \n",
      "0              NaN       NaN     0.096540  \n",
      "1         0.843076       NaN          NaN  \n",
      "2              NaN       NaN     3.312500  \n",
      "3        35.864075 -0.998327     0.007292  \n",
      "4         0.089440  8.383949     0.084263  \n"
     ]
    }
   ],
   "source": [
    "import dask.dataframe as dd\n",
    "\n",
    "# Define the file location\n",
    "file_location = \"/Users/atulkalra/Desktop/DSI Assignment/production/05_src/data/temp/stock_px.parquet\"\n",
    "\n",
    "# Load the data into a Dask DataFrame from the Parquet file\n",
    "dd_data = dd.read_parquet(file_location)\n",
    "\n",
    "# Print out the column names to verify what's available\n",
    "print(\"Columns in dd_data:\", dd_data.columns)\n",
    "\n",
    "# Check if the 'date' column exists. If not, check if 'Date' exists and rename it.\n",
    "if 'date' not in dd_data.columns:\n",
    "    if 'Date' in dd_data.columns:\n",
    "        print(\"Renaming 'Date' to 'date'\")\n",
    "        dd_data = dd_data.rename(columns={'Date': 'date'})\n",
    "    else:\n",
    "        print(\"No date column found. 'date' will be omitted from the final selection.\")\n",
    "\n",
    "# Sort by date (and ticker if available)\n",
    "if 'ticker' in dd_data.columns and 'date' in dd_data.columns:\n",
    "    dd_data = dd_data.sort_values(by=['ticker', 'date'])\n",
    "elif 'date' in dd_data.columns:\n",
    "    dd_data = dd_data.sort_values(by=['date'])\n",
    "else:\n",
    "    # If no date column is available, sort by ticker if possible, or skip sorting.\n",
    "    if 'ticker' in dd_data.columns:\n",
    "        dd_data = dd_data.sort_values(by=['ticker'])\n",
    "\n",
    "# Add lag for 'Close'\n",
    "dd_data['Close_lag_1'] = dd_data['Close'].shift(1)\n",
    "\n",
    "# Add lag for 'Adj Close'\n",
    "dd_data['Adj_Close_lag_1'] = dd_data['Adj Close'].shift(1)\n",
    "\n",
    "# Add returns based on 'Close'\n",
    "dd_data['returns'] = (dd_data['Close'] / dd_data['Close_lag_1']) - 1\n",
    "\n",
    "# Add high-low range for each row\n",
    "dd_data['hi_lo_range'] = dd_data['High'] - dd_data['Low']\n",
    "\n",
    "# Build the list of columns for the final DataFrame\n",
    "selected_columns = []\n",
    "\n",
    "if 'ticker' in dd_data.columns:\n",
    "    selected_columns.append('ticker')\n",
    "\n",
    "if 'date' in dd_data.columns:\n",
    "    selected_columns.append('date')\n",
    "\n",
    "selected_columns += ['Close', 'Adj Close', 'Close_lag_1', 'Adj_Close_lag_1', 'returns', 'hi_lo_range']\n",
    "\n",
    "# Assign the result to dd_feat\n",
    "dd_feat = dd_data[selected_columns]\n",
    "\n",
    "# Print the first few rows to verify the results\n",
    "print(dd_feat.head())"
   ]
  },
  {
   "cell_type": "markdown",
   "metadata": {},
   "source": [
    "+ Convert the Dask data frame to a pandas data frame. \n",
    "+ Add a new feature containing the moving average of `returns` using a window of 10 days. There are several ways to solve this task, a simple one uses `.rolling(10).mean()`.\n",
    "\n",
    "(3 pt)"
   ]
  },
  {
   "cell_type": "code",
   "execution_count": 44,
   "metadata": {},
   "outputs": [
    {
     "name": "stdout",
     "output_type": "stream",
     "text": [
      "                       date      Close  Adj Close  Close_lag_1  \\\n",
      "0 2000-01-03 00:00:00+00:00   0.999442   0.843076          NaN   \n",
      "1 2000-01-03 00:00:00+00:00        NaN        NaN     0.999442   \n",
      "2 2000-01-03 00:00:00+00:00  58.281250  35.864075          NaN   \n",
      "3 2000-01-03 00:00:00+00:00   0.097526   0.089440    58.281250   \n",
      "4 2000-01-04 00:00:00+00:00   0.915179   0.771997     0.097526   \n",
      "\n",
      "   Adj_Close_lag_1   returns  hi_lo_range  returns_10_day_ma  \n",
      "0              NaN       NaN     0.096540                NaN  \n",
      "1         0.843076       NaN          NaN                NaN  \n",
      "2              NaN       NaN     3.312500                NaN  \n",
      "3        35.864075 -0.998327     0.007292                NaN  \n",
      "4         0.089440  8.383949     0.084263                NaN  \n"
     ]
    }
   ],
   "source": [
    "import pandas as pd\n",
    "\n",
    "# Convert Dask DataFrame to Pandas DataFrame\n",
    "dd_feat_pd = dd_feat.compute()\n",
    "\n",
    "# Add a new feature for the moving average of returns using a 10-day window\n",
    "dd_feat_pd['returns_10_day_ma'] = dd_feat_pd['returns'].rolling(window=10).mean()\n",
    "\n",
    "# Print the first few rows to verify the new feature\n",
    "print(dd_feat_pd.head())"
   ]
  },
  {
   "cell_type": "markdown",
   "metadata": {},
   "source": [
    "Please comment:\n",
    "\n",
    "+ Was it necessary to convert to pandas to calculate the moving average return?\n",
    "+ Would it have been better to do it in Dask? Why?\n",
    "\n",
    "(1 pt)"
   ]
  },
  {
   "cell_type": "markdown",
   "metadata": {},
   "source": [
    "It wasn't necessary to convert to Pandas to calculate the moving average return, as Dask supports rolling window operations. However, performing the calculation in Dask would have been more efficient for larger datasets, as it allows parallel processing and avoids memory limitations. Converting to Pandas may be suitable for smaller datasets but could lead to memory issues with larger ones. Dask is better for scalability and handling larger-than-memory data."
   ]
  },
  {
   "cell_type": "markdown",
   "metadata": {},
   "source": [
    "## Criteria\n",
    "\n",
    "The [rubric](./assignment_1_rubric_clean.xlsx) contains the criteria for grading."
   ]
  },
  {
   "cell_type": "markdown",
   "metadata": {},
   "source": [
    "## Submission Information\n",
    "\n",
    "🚨 **Please review our [Assignment Submission Guide](https://github.com/UofT-DSI/onboarding/blob/main/onboarding_documents/submissions.md)** 🚨 for detailed instructions on how to format, branch, and submit your work. Following these guidelines is crucial for your submissions to be evaluated correctly.\n",
    "\n",
    "### Submission Parameters:\n",
    "* Submission Due Date: `HH:MM AM/PM - DD/MM/YYYY`\n",
    "* The branch name for your repo should be: `assignment-1`\n",
    "* What to submit for this assignment:\n",
    "    * This Jupyter Notebook (assignment_1.ipynb) should be populated and should be the only change in your pull request.\n",
    "* What the pull request link should look like for this assignment: `https://github.com/<your_github_username>/production/pull/<pr_id>`\n",
    "    * Open a private window in your browser. Copy and paste the link to your pull request into the address bar. Make sure you can see your pull request properly. This helps the technical facilitator and learning support staff review your submission easily.\n",
    "\n",
    "Checklist:\n",
    "- [ ] Created a branch with the correct naming convention.\n",
    "- [ ] Ensured that the repository is public.\n",
    "- [ ] Reviewed the PR description guidelines and adhered to them.\n",
    "- [ ] Verify that the link is accessible in a private browser window.\n",
    "\n",
    "If you encounter any difficulties or have questions, please don't hesitate to reach out to our team via our Slack at `#cohort-3-help`. Our Technical Facilitators and Learning Support staff are here to help you navigate any challenges."
   ]
  }
 ],
 "metadata": {
  "kernelspec": {
   "display_name": "dsi_participant",
   "language": "python",
   "name": "python3"
  },
  "language_info": {
   "codemirror_mode": {
    "name": "ipython",
    "version": 3
   },
   "file_extension": ".py",
   "mimetype": "text/x-python",
   "name": "python",
   "nbconvert_exporter": "python",
   "pygments_lexer": "ipython3",
   "version": "3.9.18"
  }
 },
 "nbformat": 4,
 "nbformat_minor": 2
}
